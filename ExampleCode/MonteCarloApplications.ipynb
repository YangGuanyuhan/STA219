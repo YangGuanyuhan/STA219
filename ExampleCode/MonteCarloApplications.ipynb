{
 "cells": [
  {
   "cell_type": "code",
   "metadata": {
    "ExecuteTime": {
     "end_time": "2024-11-28T15:44:52.677824Z",
     "start_time": "2024-11-28T15:44:31.395337Z"
    }
   },
   "source": [
    "#============================== Example 4.7 ==============================#\n",
    "# This block of code may take 1-2 minutes to run\n",
    "import numpy as np\n",
    "np.random.seed(20241120)\n",
    "\n",
    "# Write a function to determine if a random draw contains at least k consecutive numbers\n",
    "# This may not be the most efficient realization\n",
    "def consecutiveCount(arr, k):\n",
    "    if k <= 1:\n",
    "        return True  # Any array has at least one consecutive number if k=1\n",
    "    \n",
    "    # Sort the array\n",
    "    sorted_arr = np.sort(arr)\n",
    "    \n",
    "    # Initialize count of consecutive numbers\n",
    "    consecutive_count = 1\n",
    "    \n",
    "    # Iterate through the sorted array and check for consecutive numbers\n",
    "    for i in range(1, len(sorted_arr)):\n",
    "        if sorted_arr[i] == sorted_arr[i - 1] + 1:\n",
    "            consecutive_count += 1\n",
    "            # Check if the count of consecutive numbers has reached k\n",
    "            if consecutive_count >= k:\n",
    "                return 1\n",
    "        else:\n",
    "            # Reset the consecutive count if the sequence breaks\n",
    "            consecutive_count = 1\n",
    "    \n",
    "    return 0\n",
    "\n",
    "\n",
    "# Repeat the random sampling n times and record the number of times with more than k consecutive numbers\n",
    "n = 100000\n",
    "\n",
    "N1 = 5141; m1 = 124; k1 = 6\n",
    "cnt1 = 0\n",
    "for i in range(n):\n",
    "    result = np.random.choice(np.arange(1, N1 + 1), size = m1, replace = False)\n",
    "    cnt1 = cnt1 + consecutiveCount(result, k1)\n",
    "\n",
    "N2 = 1138; m2 = 514; k2 = 14\n",
    "cnt2 = 0\n",
    "for i in range(n):\n",
    "    result = np.random.choice(np.arange(1, N2 + 1), size = m2, replace = False)\n",
    "    cnt2 = cnt2 + consecutiveCount(result, k2)\n",
    "\n",
    "# Compute the estimated probability\n",
    "print(\"Prob. of the case in Wuhan: %.6f\" % (cnt1 / n))\n",
    "print(\"Prob. of the case in Laohekou: %.6f\" % (cnt2 / n))"
   ],
   "outputs": [
    {
     "name": "stdout",
     "output_type": "stream",
     "text": [
      "Prob. of the case in Wuhan: 0.000000\n",
      "Prob. of the case in Laohekou: 0.007920\n"
     ]
    }
   ],
   "execution_count": 1
  },
  {
   "cell_type": "code",
   "metadata": {
    "ExecuteTime": {
     "end_time": "2024-11-27T15:30:01.320783Z",
     "start_time": "2024-11-27T15:30:00.722330Z"
    }
   },
   "source": [
    "#============================== Example 4.8 ==============================#\n",
    "n = 16577\n",
    "cnt = 0\n",
    "finish_times = np.zeros(n)\n",
    "np.random.seed(20241120)\n",
    "\n",
    "for i in range(n):\n",
    "    active_users = np.random.binomial(250, 0.3)\n",
    "    tasks = np.random.geometric(0.15, size = active_users)\n",
    "    total_tasks = np.sum(tasks)\n",
    "    # Pay attention to the parameterization of the Gamma distribution in Python, scale = 1/lambda\n",
    "    # https://numpy.org/doc/2.0/reference/random/generated/numpy.random.gamma.html\n",
    "    computer_time = np.random.gamma(shape = 10, scale = 1 / 3, size = total_tasks) \n",
    "    finish_times[i] = np.sum(computer_time)\n",
    "    \n",
    "    if finish_times[i] <= 1440:\n",
    "        cnt = cnt + 1\n",
    "\n",
    "print(\"Prob. of finishing all tasks: %.6f\" % (cnt / n))\n",
    "# The probability is 0.174010 running with a very large n"
   ],
   "outputs": [
    {
     "name": "stdout",
     "output_type": "stream",
     "text": [
      "Prob. of finishing all tasks: 0.176268\n"
     ]
    }
   ],
   "execution_count": 5
  },
  {
   "cell_type": "code",
   "metadata": {
    "ExecuteTime": {
     "end_time": "2024-11-27T15:30:07.901574Z",
     "start_time": "2024-11-27T15:30:07.850007Z"
    }
   },
   "source": [
    "#==================== Another way to implement Example 4.8 ====================#\n",
    "n = 16577\n",
    "cnt = 0\n",
    "finish_times2 = np.zeros(n)\n",
    "np.random.seed(20241120)\n",
    "\n",
    "for i in range(n):\n",
    "    active_users = np.random.binomial(250, 0.3)\n",
    "    # Pay attention to the output of np.random.negative_binomial\n",
    "    # https://numpy.org/doc/2.1/reference/random/generated/numpy.random.negative_binomial.html\n",
    "    total_tasks = np.random.negative_binomial(active_users, 0.15) + active_users\n",
    "    finish_times2[i] = np.random.gamma(10 * total_tasks, 1 / 3)\n",
    "    \n",
    "    if finish_times2[i] <= 1440:\n",
    "        cnt = cnt + 1\n",
    "\n",
    "print(\"Prob. of finishing all tasks with the second method: %.6f\" % (cnt / n))"
   ],
   "outputs": [
    {
     "name": "stdout",
     "output_type": "stream",
     "text": [
      "Prob. of finishing all tasks with the second method: 0.166737\n"
     ]
    }
   ],
   "execution_count": 6
  },
  {
   "metadata": {
    "jupyter": {
     "is_executing": true
    },
    "ExecuteTime": {
     "start_time": "2024-11-27T15:36:31.645356Z"
    }
   },
   "cell_type": "code",
   "source": [
    "#============================== Example 4.8 ==============================#\n",
    "n = 999999999\n",
    "cnt = 0\n",
    "finish_times = np.zeros(n)\n",
    "np.random.seed(20241120)\n",
    "\n",
    "for i in range(n):\n",
    "    active_users = np.random.binomial(250, 0.3)\n",
    "    tasks = np.random.geometric(0.15, size = active_users)\n",
    "    total_tasks = np.sum(tasks)\n",
    "    # Pay attention to the parameterization of the Gamma distribution in Python, scale = 1/lambda\n",
    "    # https://numpy.org/doc/2.0/reference/random/generated/numpy.random.gamma.html\n",
    "    computer_time = np.random.gamma(shape = 10, scale = 1 / 3, size = total_tasks) \n",
    "    finish_times[i] = np.sum(computer_time)\n",
    "    \n",
    "    if finish_times[i] <= 1440:\n",
    "        cnt = cnt + 1\n",
    "\n",
    "print(\"Prob. of finishing all tasks in a very large n: %.6f\" % (cnt / n))"
   ],
   "outputs": [],
   "execution_count": null
  },
  {
   "cell_type": "code",
   "execution_count": 4,
   "metadata": {},
   "outputs": [
    {
     "name": "stdout",
     "output_type": "stream",
     "text": [
      "Expectation of the total requested computer time: 1664.9762 min\n",
      "Standard deviation of the total requested computer time: 243.0083 min\n",
      "Results of the second method:\n",
      "Expectation of the total requested computer time: 1669.1063 min\n",
      "Standard deviation of the total requested computer time: 237.9879 min\n"
     ]
    }
   ],
   "source": [
    "#============================== Example 4.8 (Continued) ==============================#\n",
    "print(\"Expectation of the total requested computer time: %.4f min\" % np.mean(finish_times))\n",
    "print(\"Standard deviation of the total requested computer time: %.4f min\" % np.std(finish_times))\n",
    "print(\"Results of the second method:\")\n",
    "print(\"Expectation of the total requested computer time: %.4f min\" % np.mean(finish_times2))\n",
    "print(\"Standard deviation of the total requested computer time: %.4f min\" % np.std(finish_times2))"
   ]
  }
 ],
 "metadata": {
  "kernelspec": {
   "display_name": "Python 3 (ipykernel)",
   "language": "python",
   "name": "python3"
  },
  "language_info": {
   "codemirror_mode": {
    "name": "ipython",
    "version": 3
   },
   "file_extension": ".py",
   "mimetype": "text/x-python",
   "name": "python",
   "nbconvert_exporter": "python",
   "pygments_lexer": "ipython3",
   "version": "3.12.2"
  }
 },
 "nbformat": 4,
 "nbformat_minor": 4
}
